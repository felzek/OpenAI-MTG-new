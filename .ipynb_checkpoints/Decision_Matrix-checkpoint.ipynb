{
 "cells": [
  {
   "cell_type": "code",
   "execution_count": 14,
   "metadata": {},
   "outputs": [],
   "source": [
    "import numpy as np\n",
    "import pandas as pd"
   ]
  },
  {
   "cell_type": "code",
   "execution_count": null,
   "metadata": {},
   "outputs": [],
   "source": [
    "#global variables\n",
    "count_array = np.full((21,21,21,21), 0)\n",
    "decision_array = np.full((21,21,21,21), 0.5)\n",
    "\n",
    "#defining decision function\n",
    "def decision(self_creatures=0, opponent_creatures=0, self_life=20, opponent_life=20):\n",
    "    attacking_creatures = round(self_creatures * decision_array[self_creatures, opponent_creatures, self_life, opponent_life])\n",
    "    count_array[self_creatures, opponent_creatures, self_life, opponent_life] += 1\n",
    "    return attacking_creatures\n",
    "def reward(winner='self'): #currently self = player 2, opponent = player 1\n",
    "    if winner == 'self':\n",
    "        #Figuring out index non zero values in count array to update decision matrix\n",
    "    else:\n"
   ]
  },
  {
   "cell_type": "code",
   "execution_count": 44,
   "metadata": {},
   "outputs": [
    {
     "name": "stdout",
     "output_type": "stream",
     "text": [
      "2205.0\n",
      "440.9999999999999\n"
     ]
    }
   ],
   "source": [
    "a = np.full((21,21,21,21), 5)\n",
    "norm = np.linalg.norm(a)\n",
    "print(norm)\n",
    "normal_array = a/norm\n",
    "print(np.sum(normal_array))"
   ]
  },
  {
   "cell_type": "code",
   "execution_count": 42,
   "metadata": {},
   "outputs": [
    {
     "name": "stdout",
     "output_type": "stream",
     "text": [
      "[2.90762883 2.82615147 9.77984818 4.86432916 9.07780854 2.66324643\n",
      " 1.35017785 5.6164461  6.02866141 7.24719649]\n",
      "18.640872237402217\n",
      "[0.15598137 0.15161047 0.52464542 0.26094965 0.48698411 0.14287134\n",
      " 0.07243104 0.30129739 0.32341091 0.3887799 ]\n"
     ]
    }
   ],
   "source": [
    "an_array = np.random.rand(10)*10\n",
    "print(an_array)\n",
    "\n",
    "norm = np.linalg.norm(an_array)\n",
    "print(norm)\n",
    "normal_array = an_array/norm\n",
    "print(normal_array)"
   ]
  },
  {
   "cell_type": "code",
   "execution_count": 40,
   "metadata": {},
   "outputs": [
    {
     "ename": "NameError",
     "evalue": "name 'an_array' is not defined",
     "output_type": "error",
     "traceback": [
      "\u001b[1;31m---------------------------------------------------------------------------\u001b[0m",
      "\u001b[1;31mNameError\u001b[0m                                 Traceback (most recent call last)",
      "\u001b[1;32m<ipython-input-40-c983690fd969>\u001b[0m in \u001b[0;36m<module>\u001b[1;34m\u001b[0m\n\u001b[1;32m----> 1\u001b[1;33m \u001b[0mnorm\u001b[0m \u001b[1;33m=\u001b[0m \u001b[0mnp\u001b[0m\u001b[1;33m.\u001b[0m\u001b[0mlinalg\u001b[0m\u001b[1;33m.\u001b[0m\u001b[0mnorm\u001b[0m\u001b[1;33m(\u001b[0m\u001b[0man_array\u001b[0m\u001b[1;33m)\u001b[0m\u001b[1;33m\u001b[0m\u001b[1;33m\u001b[0m\u001b[0m\n\u001b[0m",
      "\u001b[1;31mNameError\u001b[0m: name 'an_array' is not defined"
     ]
    }
   ],
   "source": [
    "norm = np.linalg.norm(an_array)"
   ]
  }
 ],
 "metadata": {
  "kernelspec": {
   "display_name": "Python 3",
   "language": "python",
   "name": "python3"
  },
  "language_info": {
   "codemirror_mode": {
    "name": "ipython",
    "version": 3
   },
   "file_extension": ".py",
   "mimetype": "text/x-python",
   "name": "python",
   "nbconvert_exporter": "python",
   "pygments_lexer": "ipython3",
   "version": "3.7.6"
  }
 },
 "nbformat": 4,
 "nbformat_minor": 4
}
