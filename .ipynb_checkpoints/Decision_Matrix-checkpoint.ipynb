{
 "cells": [
  {
   "cell_type": "code",
   "execution_count": 75,
   "metadata": {},
   "outputs": [],
   "source": [
    "import numpy as np\n",
    "import pandas as pd\n",
    "import math"
   ]
  },
  {
   "cell_type": "code",
   "execution_count": 76,
   "metadata": {},
   "outputs": [],
   "source": [
    "#global variables\n",
    "count_array = np.full((21,21,21,21), 0)\n",
    "decision_array = np.full((21,21,21,21), 0.5)\n",
    "\n",
    "#defining decision function\n",
    "def decision(self_creatures=0, opponent_creatures=0, self_life=20, opponent_life=20):\n",
    "    number_attacking = decision_array[self_creatures, opponent_creatures, self_life, opponent_life]\n",
    "    attacking_creatures = round(self_creatures * number_attacking)\n",
    "    if count_array[self_creatures, opponent_creatures, self_life, opponent_life] < self_creatures:\n",
    "        count_array[self_creatures, opponent_creatures, self_life, opponent_life] += 1\n",
    "    return attacking_creatures\n",
    "\n",
    "def reward(winner='self'): #currently self = player 2, opponent = player 1\n",
    "    if winner == 'self':\n",
    "        decision_array = decision_array + count_array\n",
    "        #Figuring out index non zero values in count array to update decision matrix\n",
    "    else:\n",
    "        decision_array = decision_array - count_array\n",
    "        if decision_array[self_creatures, opponent_creatures, self_life, opponent_life] < 0:\n",
    "            decision_array[self_creatures, opponent_creatures, self_life, opponent_life] = 0"
   ]
  },
  {
   "cell_type": "code",
   "execution_count": 77,
   "metadata": {},
   "outputs": [],
   "source": [
    "# TEST TEST TEST #\n",
    "\n",
    "#global variables\n",
    "# Number of max creatures and life, can change to other variables\n",
    "n = 3\n",
    "global count_array\n",
    "global decision_array\n",
    "count_array = np.full((n,n,n,n), 0)\n",
    "decision_array = np.full((n,n,n,n), 0.5)\n",
    "for x in range(n):\n",
    "    for y in range(n):\n",
    "        for z in range(n):\n",
    "            for a in range(n):\n",
    "                decision_array[x,y,z,a] = math.ceil(x/2)\n",
    "                \n",
    "#defining decision function\n",
    "def decision(self_creatures=0, opponent_creatures=0, self_life=20, opponent_life=20):\n",
    "    attacking_creatures = decision_array[self_creatures, opponent_creatures, self_life, opponent_life]\n",
    "    count_array[self_creatures, opponent_creatures, self_life, opponent_life] += 1\n",
    "    return attacking_creatures\n",
    "\n",
    "def reward(decision_array, count_array ,winner='self'): #currently self = player 2, opponent = player 1\n",
    "    boolArr = count_array != 0 \n",
    "    if winner == 'self':\n",
    "        decision_array[boolArr] += count_array[boolArr]\n",
    "        for i in range(n):\n",
    "            np.clip(decision_array[i,:,:,:], 0, i, out = decision_array[i,:,:,:])\n",
    "    else:\n",
    "        decision_array[boolArr] = decision_array[boolArr] - count_array[boolArr]\n",
    "        for i in range(n):\n",
    "            np.clip(decision_array[i,:,:,:], 0, i, out = decision_array[i,:,:,:])\n",
    "# yay teamwork"
   ]
  },
  {
   "cell_type": "code",
   "execution_count": 79,
   "metadata": {
    "scrolled": true
   },
   "outputs": [
    {
     "name": "stdout",
     "output_type": "stream",
     "text": [
      "output\n",
      "[[[[0 0 0]\n",
      "   [0 0 0]\n",
      "   [0 0 0]]\n",
      "\n",
      "  [[0 0 0]\n",
      "   [0 0 0]\n",
      "   [0 0 0]]\n",
      "\n",
      "  [[0 0 0]\n",
      "   [0 0 0]\n",
      "   [0 0 0]]]\n",
      "\n",
      "\n",
      " [[[1 1 1]\n",
      "   [1 1 1]\n",
      "   [1 1 1]]\n",
      "\n",
      "  [[1 1 1]\n",
      "   [1 1 1]\n",
      "   [1 1 1]]\n",
      "\n",
      "  [[1 1 1]\n",
      "   [1 1 1]\n",
      "   [1 1 1]]]\n",
      "\n",
      "\n",
      " [[[1 1 1]\n",
      "   [1 1 1]\n",
      "   [1 1 1]]\n",
      "\n",
      "  [[1 1 1]\n",
      "   [1 1 1]\n",
      "   [1 1 1]]\n",
      "\n",
      "  [[1 1 1]\n",
      "   [1 1 1]\n",
      "   [1 1 1]]]]\n"
     ]
    }
   ],
   "source": [
    "winner = 'self'\n",
    "dummy_array = np.full((3,3,3,3), 1)\n",
    "reward(dummy_array,count_array, winner)\n",
    "print(\"output\")\n",
    "print(dummy_array)"
   ]
  },
  {
   "cell_type": "code",
   "execution_count": 9,
   "metadata": {},
   "outputs": [
    {
     "name": "stdout",
     "output_type": "stream",
     "text": [
      "[[[[0 1 0]\n",
      "   [0 0 0]\n",
      "   [0 0 0]]\n",
      "\n",
      "  [[0 0 0]\n",
      "   [0 0 0]\n",
      "   [0 0 0]]\n",
      "\n",
      "  [[0 0 0]\n",
      "   [0 0 0]\n",
      "   [0 0 0]]]\n",
      "\n",
      "\n",
      " [[[0 0 0]\n",
      "   [0 0 0]\n",
      "   [0 0 0]]\n",
      "\n",
      "  [[0 0 0]\n",
      "   [0 0 0]\n",
      "   [0 0 0]]\n",
      "\n",
      "  [[0 0 0]\n",
      "   [0 0 0]\n",
      "   [0 0 0]]]\n",
      "\n",
      "\n",
      " [[[0 0 0]\n",
      "   [0 0 0]\n",
      "   [0 0 0]]\n",
      "\n",
      "  [[0 0 0]\n",
      "   [0 0 0]\n",
      "   [0 0 0]]\n",
      "\n",
      "  [[0 0 0]\n",
      "   [0 0 0]\n",
      "   [0 0 0]]]]\n"
     ]
    },
    {
     "ename": "TypeError",
     "evalue": "reward() missing 1 required positional argument: 'decision_array'",
     "output_type": "error",
     "traceback": [
      "\u001b[1;31m---------------------------------------------------------------------------\u001b[0m",
      "\u001b[1;31mTypeError\u001b[0m                                 Traceback (most recent call last)",
      "\u001b[1;32m<ipython-input-9-cf88b3b13f78>\u001b[0m in \u001b[0;36m<module>\u001b[1;34m\u001b[0m\n\u001b[0;32m      5\u001b[0m \u001b[0mprint\u001b[0m\u001b[1;33m(\u001b[0m\u001b[0mcount_array\u001b[0m\u001b[1;33m)\u001b[0m\u001b[1;33m\u001b[0m\u001b[1;33m\u001b[0m\u001b[0m\n\u001b[0;32m      6\u001b[0m \u001b[1;33m\u001b[0m\u001b[0m\n\u001b[1;32m----> 7\u001b[1;33m \u001b[0mreward\u001b[0m\u001b[1;33m(\u001b[0m\u001b[1;33m)\u001b[0m\u001b[1;33m\u001b[0m\u001b[1;33m\u001b[0m\u001b[0m\n\u001b[0m\u001b[0;32m      8\u001b[0m \u001b[0mprint\u001b[0m\u001b[1;33m(\u001b[0m\u001b[0mcount_array\u001b[0m\u001b[1;33m)\u001b[0m\u001b[1;33m\u001b[0m\u001b[1;33m\u001b[0m\u001b[0m\n",
      "\u001b[1;31mTypeError\u001b[0m: reward() missing 1 required positional argument: 'decision_array'"
     ]
    }
   ],
   "source": [
    "# print(decision_array)\n",
    "\n",
    "winner = 'self'\n",
    "decision(0,0,0,1)\n",
    "print(count_array)\n",
    "\n",
    "reward()\n",
    "print(count_array)"
   ]
  },
  {
   "cell_type": "code",
   "execution_count": null,
   "metadata": {},
   "outputs": [],
   "source": [
    "a = np.full((21,21,21,21), 5)\n",
    "norm = np.linalg.norm(a)\n",
    "print(norm)\n",
    "normal_array = a/norm\n",
    "print(np.sum(normal_array))"
   ]
  },
  {
   "cell_type": "code",
   "execution_count": null,
   "metadata": {},
   "outputs": [],
   "source": [
    "an_array = np.random.rand(10)*10\n",
    "print(an_array)\n",
    "\n",
    "norm = np.linalg.norm(an_array)\n",
    "print(norm)\n",
    "normal_array = an_array/norm\n",
    "print(normal_array)"
   ]
  },
  {
   "cell_type": "code",
   "execution_count": null,
   "metadata": {},
   "outputs": [],
   "source": [
    "norm = np.linalg.norm(an_array)"
   ]
  }
 ],
 "metadata": {
  "kernelspec": {
   "display_name": "Python 3",
   "language": "python",
   "name": "python3"
  },
  "language_info": {
   "codemirror_mode": {
    "name": "ipython",
    "version": 3
   },
   "file_extension": ".py",
   "mimetype": "text/x-python",
   "name": "python",
   "nbconvert_exporter": "python",
   "pygments_lexer": "ipython3",
   "version": "3.8.3"
  }
 },
 "nbformat": 4,
 "nbformat_minor": 4
}
