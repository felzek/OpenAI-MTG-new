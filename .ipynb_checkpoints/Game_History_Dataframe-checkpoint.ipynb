{
 "cells": [
  {
   "cell_type": "code",
   "execution_count": 74,
   "id": "6cd5519e",
   "metadata": {},
   "outputs": [],
   "source": [
    "import numpy as np\n",
    "import pandas as pd\n",
    "import math"
   ]
  },
  {
   "cell_type": "code",
   "execution_count": 75,
   "id": "133f7ebc",
   "metadata": {},
   "outputs": [
    {
     "data": {
      "text/html": [
       "<div>\n",
       "<style scoped>\n",
       "    .dataframe tbody tr th:only-of-type {\n",
       "        vertical-align: middle;\n",
       "    }\n",
       "\n",
       "    .dataframe tbody tr th {\n",
       "        vertical-align: top;\n",
       "    }\n",
       "\n",
       "    .dataframe thead th {\n",
       "        text-align: right;\n",
       "    }\n",
       "</style>\n",
       "<table border=\"1\" class=\"dataframe\">\n",
       "  <thead>\n",
       "    <tr style=\"text-align: right;\">\n",
       "      <th></th>\n",
       "      <th></th>\n",
       "      <th>LFT</th>\n",
       "      <th>CP</th>\n",
       "      <th>SLT</th>\n",
       "      <th>OLT</th>\n",
       "      <th>ST</th>\n",
       "      <th>SUC</th>\n",
       "      <th>OUC</th>\n",
       "      <th>STC</th>\n",
       "      <th>OTC</th>\n",
       "      <th>SAC</th>\n",
       "      <th>OAC</th>\n",
       "      <th>SBC</th>\n",
       "      <th>OBC</th>\n",
       "    </tr>\n",
       "    <tr>\n",
       "      <th>Game</th>\n",
       "      <th>Round</th>\n",
       "      <th></th>\n",
       "      <th></th>\n",
       "      <th></th>\n",
       "      <th></th>\n",
       "      <th></th>\n",
       "      <th></th>\n",
       "      <th></th>\n",
       "      <th></th>\n",
       "      <th></th>\n",
       "      <th></th>\n",
       "      <th></th>\n",
       "      <th></th>\n",
       "      <th></th>\n",
       "    </tr>\n",
       "  </thead>\n",
       "  <tbody>\n",
       "  </tbody>\n",
       "</table>\n",
       "</div>"
      ],
      "text/plain": [
       "Empty DataFrame\n",
       "Columns: [LFT, CP, SLT, OLT, ST, SUC, OUC, STC, OTC, SAC, OAC, SBC, OBC]\n",
       "Index: []"
      ]
     },
     "execution_count": 75,
     "metadata": {},
     "output_type": "execute_result"
    }
   ],
   "source": [
    "game_history = pd.DataFrame(columns = [\"Game\",\"Round\",\"LFT\",\"CP\",\"SLT\", \"OLT\",\"ST\",\"SUC\",\"OUC\",\"STC\",\"OTC\",\"SAC\",\"OAC\",\"SBC\",\"OBC\"])\n",
    "game_history.set_index(['Game', 'Round'], inplace = True)\n",
    "game_history.astype(dtype = {\"LFT\": bool, \"CP\" : int, \"SLT\": int, \"OLT\": int , \"SUC\": int,\"OUC\": int,\"STC\": int,\"OTC\": int,\"SAC\": int,\"OAC\": int,\"SBC\": int,\"OBC\": int})"
   ]
  },
  {
   "cell_type": "code",
   "execution_count": 76,
   "id": "fc21e391",
   "metadata": {},
   "outputs": [
    {
     "data": {
      "text/html": [
       "<div>\n",
       "<style scoped>\n",
       "    .dataframe tbody tr th:only-of-type {\n",
       "        vertical-align: middle;\n",
       "    }\n",
       "\n",
       "    .dataframe tbody tr th {\n",
       "        vertical-align: top;\n",
       "    }\n",
       "\n",
       "    .dataframe thead th {\n",
       "        text-align: right;\n",
       "    }\n",
       "</style>\n",
       "<table border=\"1\" class=\"dataframe\">\n",
       "  <thead>\n",
       "    <tr style=\"text-align: right;\">\n",
       "      <th></th>\n",
       "      <th>Game</th>\n",
       "      <th>Round</th>\n",
       "      <th>LFT</th>\n",
       "      <th>CP</th>\n",
       "      <th>SLT</th>\n",
       "      <th>OLT</th>\n",
       "      <th>ST</th>\n",
       "      <th>SUC</th>\n",
       "      <th>OUC</th>\n",
       "      <th>STC</th>\n",
       "      <th>OTC</th>\n",
       "      <th>SAC</th>\n",
       "      <th>OAC</th>\n",
       "      <th>SBC</th>\n",
       "      <th>OBC</th>\n",
       "    </tr>\n",
       "  </thead>\n",
       "  <tbody>\n",
       "    <tr>\n",
       "      <th>0</th>\n",
       "      <td>1</td>\n",
       "      <td>1</td>\n",
       "      <td>True</td>\n",
       "      <td>1</td>\n",
       "      <td>1</td>\n",
       "      <td>1</td>\n",
       "      <td>[\"opponent_creature\",\"opponent_life\"]</td>\n",
       "      <td>1</td>\n",
       "      <td>1</td>\n",
       "      <td>1</td>\n",
       "      <td>1</td>\n",
       "      <td>1</td>\n",
       "      <td>1</td>\n",
       "      <td>1</td>\n",
       "      <td>1</td>\n",
       "    </tr>\n",
       "  </tbody>\n",
       "</table>\n",
       "</div>"
      ],
      "text/plain": [
       "   Game  Round   LFT  CP  SLT  OLT                                     ST  \\\n",
       "0     1      1  True   1    1    1  [\"opponent_creature\",\"opponent_life\"]   \n",
       "\n",
       "   SUC  OUC  STC  OTC  SAC  OAC  SBC  OBC  \n",
       "0    1    1    1    1    1    1    1    1  "
      ]
     },
     "execution_count": 76,
     "metadata": {},
     "output_type": "execute_result"
    }
   ],
   "source": [
    "sample_state_matrix = pd.read_csv(\"./sample_state_matrix.csv\", header = 0)\n",
    "sample_state_matrix"
   ]
  },
  {
   "cell_type": "code",
   "execution_count": 77,
   "id": "18d1f39d",
   "metadata": {},
   "outputs": [
    {
     "data": {
      "text/plain": [
       "Game      int64\n",
       "Round     int64\n",
       "LFT        bool\n",
       "CP        int64\n",
       "SLT       int64\n",
       "OLT       int64\n",
       "ST       object\n",
       "SUC       int64\n",
       "OUC       int64\n",
       "STC       int64\n",
       "OTC       int64\n",
       "SAC       int64\n",
       "OAC       int64\n",
       "SBC       int64\n",
       "OBC       int64\n",
       "dtype: object"
      ]
     },
     "execution_count": 77,
     "metadata": {},
     "output_type": "execute_result"
    }
   ],
   "source": [
    "sample_state_matrix.dtypes"
   ]
  },
  {
   "cell_type": "code",
   "execution_count": 78,
   "id": "ae8e8ce6",
   "metadata": {},
   "outputs": [
    {
     "data": {
      "text/html": [
       "<div>\n",
       "<style scoped>\n",
       "    .dataframe tbody tr th:only-of-type {\n",
       "        vertical-align: middle;\n",
       "    }\n",
       "\n",
       "    .dataframe tbody tr th {\n",
       "        vertical-align: top;\n",
       "    }\n",
       "\n",
       "    .dataframe thead th {\n",
       "        text-align: right;\n",
       "    }\n",
       "</style>\n",
       "<table border=\"1\" class=\"dataframe\">\n",
       "  <thead>\n",
       "    <tr style=\"text-align: right;\">\n",
       "      <th></th>\n",
       "      <th></th>\n",
       "      <th>LFT</th>\n",
       "      <th>CP</th>\n",
       "      <th>SLT</th>\n",
       "      <th>OLT</th>\n",
       "      <th>ST</th>\n",
       "      <th>SUC</th>\n",
       "      <th>OUC</th>\n",
       "      <th>STC</th>\n",
       "      <th>OTC</th>\n",
       "      <th>SAC</th>\n",
       "      <th>OAC</th>\n",
       "      <th>SBC</th>\n",
       "      <th>OBC</th>\n",
       "    </tr>\n",
       "    <tr>\n",
       "      <th>Game</th>\n",
       "      <th>Round</th>\n",
       "      <th></th>\n",
       "      <th></th>\n",
       "      <th></th>\n",
       "      <th></th>\n",
       "      <th></th>\n",
       "      <th></th>\n",
       "      <th></th>\n",
       "      <th></th>\n",
       "      <th></th>\n",
       "      <th></th>\n",
       "      <th></th>\n",
       "      <th></th>\n",
       "      <th></th>\n",
       "    </tr>\n",
       "  </thead>\n",
       "  <tbody>\n",
       "    <tr>\n",
       "      <th rowspan=\"2\" valign=\"top\">1.0</th>\n",
       "      <th>1.0</th>\n",
       "      <td>1.0</td>\n",
       "      <td>1.0</td>\n",
       "      <td>1.0</td>\n",
       "      <td>1.0</td>\n",
       "      <td>[\"opponent_creature\",\"opponent_life\"]</td>\n",
       "      <td>1.0</td>\n",
       "      <td>1.0</td>\n",
       "      <td>1.0</td>\n",
       "      <td>1.0</td>\n",
       "      <td>1.0</td>\n",
       "      <td>1.0</td>\n",
       "      <td>1.0</td>\n",
       "      <td>1.0</td>\n",
       "    </tr>\n",
       "    <tr>\n",
       "      <th>2.0</th>\n",
       "      <td>NaN</td>\n",
       "      <td>NaN</td>\n",
       "      <td>NaN</td>\n",
       "      <td>NaN</td>\n",
       "      <td>NaN</td>\n",
       "      <td>NaN</td>\n",
       "      <td>NaN</td>\n",
       "      <td>NaN</td>\n",
       "      <td>NaN</td>\n",
       "      <td>NaN</td>\n",
       "      <td>NaN</td>\n",
       "      <td>NaN</td>\n",
       "      <td>NaN</td>\n",
       "    </tr>\n",
       "    <tr>\n",
       "      <th>2.0</th>\n",
       "      <th>1.0</th>\n",
       "      <td>NaN</td>\n",
       "      <td>NaN</td>\n",
       "      <td>NaN</td>\n",
       "      <td>NaN</td>\n",
       "      <td>NaN</td>\n",
       "      <td>NaN</td>\n",
       "      <td>NaN</td>\n",
       "      <td>NaN</td>\n",
       "      <td>NaN</td>\n",
       "      <td>NaN</td>\n",
       "      <td>NaN</td>\n",
       "      <td>NaN</td>\n",
       "      <td>NaN</td>\n",
       "    </tr>\n",
       "  </tbody>\n",
       "</table>\n",
       "</div>"
      ],
      "text/plain": [
       "            LFT   CP  SLT  OLT                                     ST  SUC  \\\n",
       "Game Round                                                                   \n",
       "1.0  1.0    1.0  1.0  1.0  1.0  [\"opponent_creature\",\"opponent_life\"]  1.0   \n",
       "     2.0    NaN  NaN  NaN  NaN                                    NaN  NaN   \n",
       "2.0  1.0    NaN  NaN  NaN  NaN                                    NaN  NaN   \n",
       "\n",
       "            OUC  STC  OTC  SAC  OAC  SBC  OBC  \n",
       "Game Round                                     \n",
       "1.0  1.0    1.0  1.0  1.0  1.0  1.0  1.0  1.0  \n",
       "     2.0    NaN  NaN  NaN  NaN  NaN  NaN  NaN  \n",
       "2.0  1.0    NaN  NaN  NaN  NaN  NaN  NaN  NaN  "
      ]
     },
     "execution_count": 78,
     "metadata": {},
     "output_type": "execute_result"
    }
   ],
   "source": [
    "new_entry = {\"Game\":1, \"Round\":2}\n",
    "sample_state_matrix = sample_state_matrix.append(new_entry, ignore_index = True)\n",
    "new_entry = {\"Game\":2, \"Round\":1}\n",
    "sample_state_matrix = sample_state_matrix.append(new_entry, ignore_index = True)\n",
    "sample_state_matrix.set_index([\"Game\",\"Round\"], inplace = True)\n",
    "sample_state_matrix"
   ]
  },
  {
   "cell_type": "code",
   "execution_count": 83,
   "id": "1fe13303",
   "metadata": {},
   "outputs": [
    {
     "data": {
      "text/plain": [
       "LFT    NaN\n",
       "CP     NaN\n",
       "SLT    NaN\n",
       "OLT    NaN\n",
       "ST     NaN\n",
       "SUC    NaN\n",
       "OUC    NaN\n",
       "STC    NaN\n",
       "OTC    NaN\n",
       "SAC    NaN\n",
       "OAC    NaN\n",
       "SBC    NaN\n",
       "OBC    NaN\n",
       "Name: (2.0, 1.0), dtype: object"
      ]
     },
     "execution_count": 83,
     "metadata": {},
     "output_type": "execute_result"
    }
   ],
   "source": [
    "sample_state_matrix.loc[(2,1)]"
   ]
  },
  {
   "cell_type": "code",
   "execution_count": null,
   "id": "a1e34e2e",
   "metadata": {},
   "outputs": [],
   "source": [
    "# setting up the old strategy and runnning it to see if it collect data properly (possibly save it to a CSV file)"
   ]
  }
 ],
 "metadata": {
  "kernelspec": {
   "display_name": "Python 3",
   "language": "python",
   "name": "python3"
  },
  "language_info": {
   "codemirror_mode": {
    "name": "ipython",
    "version": 3
   },
   "file_extension": ".py",
   "mimetype": "text/x-python",
   "name": "python",
   "nbconvert_exporter": "python",
   "pygments_lexer": "ipython3",
   "version": "3.8.8"
  }
 },
 "nbformat": 4,
 "nbformat_minor": 5
}
