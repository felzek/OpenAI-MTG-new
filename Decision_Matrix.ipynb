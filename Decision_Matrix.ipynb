{
 "cells": [
  {
   "cell_type": "markdown",
   "metadata": {},
   "source": [
    "# Strategy 1\n",
    "\n",
    "This is the first strategy for the AI during the attack phase only. This strategy starts with a base of attacking with half of the available creatures (the first index of the matrix) rounded up. As each situation occurs the count will tick up for the particular situation, then if the AI wins the decision will increase the number of creatures to attack with by the count, with a cap of the number of creatures on the feild and if the AI loses it will decrease the number of creatures by the count with a minimum of 0 creatures."
   ]
  },
  {
   "cell_type": "code",
   "execution_count": 1,
   "metadata": {},
   "outputs": [],
   "source": [
    "import numpy as np\n",
    "import pandas as pd\n",
    "import math"
   ]
  },
  {
   "cell_type": "code",
   "execution_count": 2,
   "metadata": {},
   "outputs": [],
   "source": [
    "#global variables\n",
    "# Number of max creatures and life, can change to other variables\n",
    "n = 21\n",
    "global count_array\n",
    "global decision_array\n",
    "count_array = np.full((n,n,n,n), 0)\n",
    "decision_array = np.full((n,n,n,n), 0.5)\n",
    "for x in range(n):\n",
    "    for y in range(n):\n",
    "        for z in range(n):\n",
    "            for a in range(n):\n",
    "                decision_array[x,y,z,a] = math.ceil(x/2)\n",
    "                \n",
    "#defining decision function\n",
    "def decision(self_creatures=0, opponent_creatures=0, self_life=20, opponent_life=20):\n",
    "    attacking_creatures = decision_array[self_creatures, opponent_creatures, self_life, opponent_life]\n",
    "    count_array[self_creatures, opponent_creatures, self_life, opponent_life] += 1\n",
    "    return attacking_creatures\n",
    "\n",
    "def reward(decision_array, count_array ,winner=None): #currently self = player 2, opponent = player 1\n",
    "    boolArr = count_array != 0 \n",
    "    if winner == True:\n",
    "        decision_array[boolArr] += count_array[boolArr]\n",
    "        for i in range(n):\n",
    "            np.clip(decision_array[i,:,:,:], 0, i, out = decision_array[i,:,:,:])\n",
    "    else:\n",
    "        decision_array[boolArr] = decision_array[boolArr] - count_array[boolArr]\n",
    "        for i in range(n):\n",
    "            np.clip(decision_array[i,:,:,:], 0, i, out = decision_array[i,:,:,:])\n"
   ]
  },
  {
   "cell_type": "code",
   "execution_count": null,
   "metadata": {},
   "outputs": [],
   "source": []
  }
 ],
 "metadata": {
  "kernelspec": {
   "display_name": "Python 3 (ipykernel)",
   "language": "python",
   "name": "python3"
  },
  "language_info": {
   "codemirror_mode": {
    "name": "ipython",
    "version": 3
   },
   "file_extension": ".py",
   "mimetype": "text/x-python",
   "name": "python",
   "nbconvert_exporter": "python",
   "pygments_lexer": "ipython3",
   "version": "3.8.2"
  }
 },
 "nbformat": 4,
 "nbformat_minor": 4
}
